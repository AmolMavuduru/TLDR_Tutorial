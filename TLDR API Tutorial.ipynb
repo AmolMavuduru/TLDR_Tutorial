{
 "cells": [
  {
   "cell_type": "markdown",
   "metadata": {},
   "source": [
    "# TLDR API Tutorial"
   ]
  },
  {
   "cell_type": "markdown",
   "metadata": {},
   "source": [
    "## Text Summarization"
   ]
  },
  {
   "cell_type": "code",
   "execution_count": 6,
   "metadata": {},
   "outputs": [
    {
     "name": "stdout",
     "output_type": "stream",
     "text": [
      "{\"summary\":\"\\\"We have characterized bona fide examples of vaccine breakthrough manifesting as clinical symptoms,\\\" the researchers wrote in their study.Among 417 employees at Rockefeller University who were fully vaccinated with either the Pfizer or Moderna shots, two of them or about .5%, had breakthrough infections later, according to the study published on Wednesday in the New England Journal of Medicine.(CNN)For fully vaccinated people, the risk of still getting Covid-19 -- described as \\\"breakthrough infections\\\" -- remains extremely low, a new study out of New York suggests.Experts say that some breakthrough cases of Covid-19 in people who have been fully vaccinated are expected, since no vaccine is 100% effective.The other breakthrough infection was in a healthy 65-year-old woman who received her second dose of the Pfizer vaccine on February 9.\"}\n"
     ]
    }
   ],
   "source": [
    "import requests\n",
    "import os\n",
    "\n",
    "url = \"https://tldr-text-analysis.p.rapidapi.com/summarize/\"\n",
    "\n",
    "querystring = {\"text\":\"https://www.cnn.com/2021/04/21/health/two-breakthrough-infections-covid-19/index.html\", \n",
    "               \"max_sentences\": \"5\"}\n",
    "\n",
    "headers = {\n",
    "    'x-rapidapi-key': os.environ['TLDR_KEY'],\n",
    "    'x-rapidapi-host': \"tldr-text-analysis.p.rapidapi.com\"\n",
    "    }\n",
    "\n",
    "response = requests.request(\"GET\", url, headers=headers, params=querystring)\n",
    "\n",
    "print(response.text)"
   ]
  },
  {
   "cell_type": "markdown",
   "metadata": {},
   "source": [
    "## Keyword Extraction"
   ]
  },
  {
   "cell_type": "code",
   "execution_count": 9,
   "metadata": {},
   "outputs": [
    {
     "name": "stdout",
     "output_type": "stream",
     "text": [
      "[{\"keyword\":\"breakthrough\",\"score\":8},{\"keyword\":\"infections\",\"score\":8},{\"keyword\":\"people\",\"score\":7},{\"keyword\":\"covid\",\"score\":7},{\"keyword\":\"vaccine\",\"score\":7},{\"keyword\":\"cnn\",\"score\":4},{\"keyword\":\"new\",\"score\":4},{\"keyword\":\"study\",\"score\":4},{\"keyword\":\"coronavirus\",\"score\":4},{\"keyword\":\"variants\",\"score\":3}]\n"
     ]
    }
   ],
   "source": [
    "url = \"https://tldr-text-analysis.p.rapidapi.com/keywords/\"\n",
    "\n",
    "querystring = {\"text\":\"https://www.cnn.com/2021/04/21/health/two-breakthrough-infections-covid-19/index.html\", \n",
    "               \"n_keywords\": \"10\"}\n",
    "\n",
    "headers = {\n",
    "    'x-rapidapi-key': os.environ['TLDR_KEY'],\n",
    "    'x-rapidapi-host': \"tldr-text-analysis.p.rapidapi.com\"\n",
    "    }\n",
    "\n",
    "response = requests.request(\"GET\", url, headers=headers, params=querystring)\n",
    "\n",
    "print(response.text)"
   ]
  },
  {
   "cell_type": "markdown",
   "metadata": {},
   "source": [
    "## Sentiment Analysis"
   ]
  },
  {
   "cell_type": "code",
   "execution_count": 8,
   "metadata": {},
   "outputs": [
    {
     "name": "stdout",
     "output_type": "stream",
     "text": [
      "{\"sentiment\":\"positive\",\"polarity\":0.16429704016913318}\n"
     ]
    }
   ],
   "source": [
    "url = \"https://tldr-text-analysis.p.rapidapi.com/sentiment_analysis/\"\n",
    "\n",
    "querystring = {\"text\":\"https://www.cnn.com/2021/04/21/health/two-breakthrough-infections-covid-19/index.html\"}\n",
    "\n",
    "headers = {\n",
    "    'x-rapidapi-key': os.environ['TLDR_KEY'],\n",
    "    'x-rapidapi-host': \"tldr-text-analysis.p.rapidapi.com\"\n",
    "    }\n",
    "\n",
    "response = requests.request(\"GET\", url, headers=headers, params=querystring)\n",
    "\n",
    "print(response.text)"
   ]
  }
 ],
 "metadata": {
  "kernelspec": {
   "display_name": "Python 3",
   "language": "python",
   "name": "python3"
  },
  "language_info": {
   "codemirror_mode": {
    "name": "ipython",
    "version": 3
   },
   "file_extension": ".py",
   "mimetype": "text/x-python",
   "name": "python",
   "nbconvert_exporter": "python",
   "pygments_lexer": "ipython3",
   "version": "3.7.6"
  }
 },
 "nbformat": 4,
 "nbformat_minor": 4
}
